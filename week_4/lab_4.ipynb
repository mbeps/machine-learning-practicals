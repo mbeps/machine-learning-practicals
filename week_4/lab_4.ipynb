{
 "cells": [
  {
   "cell_type": "code",
   "execution_count": 190,
   "metadata": {},
   "outputs": [],
   "source": [
    "import sys\n",
    "import csv\n",
    "import numpy as np\n",
    "import matplotlib.pyplot as plt\n",
    "from sklearn import tree\n",
    "from sklearn.naive_bayes import MultinomialNB\n",
    "from sklearn.model_selection import train_test_split\n",
    "from scipy.stats import beta\n",
    "import numpy as np\n",
    "import csv\n",
    "import sys\n",
    "from sklearn.model_selection import train_test_split\n",
    "from sklearn import tree\n",
    "from sklearn.naive_bayes import MultinomialNB\n",
    "from enum import IntEnum"
   ]
  },
  {
   "cell_type": "code",
   "execution_count": 191,
   "metadata": {},
   "outputs": [],
   "source": [
    "import os\n",
    "datafilename: str = os.path.join(os.getcwd(), 'week_4', 'processed.cleveland.data')"
   ]
  },
  {
   "cell_type": "markdown",
   "metadata": {},
   "source": [
    "# Set Up"
   ]
  },
  {
   "cell_type": "markdown",
   "metadata": {},
   "source": [
    "- Storing filename with all the data."
   ]
  },
  {
   "cell_type": "code",
   "execution_count": 192,
   "metadata": {},
   "outputs": [],
   "source": [
    "datafilename: str = 'processed.cleveland.data' "
   ]
  },
  {
   "cell_type": "markdown",
   "metadata": {},
   "source": [
    "- Encoding feature names since they are not in the file (storing dataset). \n",
    "- Assigning names to each of the columns of the data; each number corresponds to the index of the column it is tracking. \n",
    "- `num` is the column being predicted. "
   ]
  },
  {
   "cell_type": "code",
   "execution_count": 193,
   "metadata": {},
   "outputs": [],
   "source": [
    "class Features(IntEnum):\n",
    "    age      = 0                              \n",
    "    sex      = 1\n",
    "    cp       = 2\n",
    "    trestbps = 3\n",
    "    chol     = 4\n",
    "    fbs      = 5\n",
    "    restecg  = 6\n",
    "    thalach  = 7\n",
    "    exang    = 8\n",
    "    oldpeak  = 9\n",
    "    slope    = 10\n",
    "    ca       = 11\n",
    "    thal     = 12\n",
    "    num      = 14\n",
    "\n",
    "feature_names: list[str] = [feature.name for feature in Features]"
   ]
  },
  {
   "cell_type": "markdown",
   "metadata": {},
   "source": [
    "- Storing size of the data file \n",
    "- Storing number of features"
   ]
  },
  {
   "cell_type": "code",
   "execution_count": 194,
   "metadata": {},
   "outputs": [],
   "source": [
    "num_samples: int = 303\n",
    "num_features: int = 13"
   ]
  },
  {
   "cell_type": "markdown",
   "metadata": {},
   "source": [
    "* Opening and reading data file in `csv` format\n",
    "* After processing:\n",
    "  * `data` stores the features\n",
    "  * `target` stores class labels "
   ]
  },
  {
   "cell_type": "code",
   "execution_count": 195,
   "metadata": {},
   "outputs": [],
   "source": [
    "try:\n",
    "    data = []\n",
    "    target = []\n",
    "    with open(datafilename) as infile:\n",
    "        indata = csv.reader(infile)\n",
    "        for d in indata:\n",
    "            ok: bool = True\n",
    "            # Do not use the record if it has missing values\n",
    "            for k in range(0, num_features):  \n",
    "                if d[k] == \"?\":\n",
    "                    ok = False\n",
    "                    break\n",
    "            if ok:\n",
    "                data.append([float(x) for x in d[:-1]])\n",
    "                target.append(int(d[-1]))\n",
    "    \n",
    "    data = np.array(data)\n",
    "    target = np.array(target)\n",
    "except IOError as iox:\n",
    "    print('There was an I/O error trying to open the data file:', iox)\n",
    "    sys.exit(1)\n",
    "except Exception as x:\n",
    "    print('There was an error:', x)\n",
    "    sys.exit(1)"
   ]
  },
  {
   "cell_type": "markdown",
   "metadata": {},
   "source": [
    "* Checking dataset (number of samples)"
   ]
  },
  {
   "cell_type": "code",
   "execution_count": 196,
   "metadata": {},
   "outputs": [
    {
     "name": "stdout",
     "output_type": "stream",
     "text": [
      "Number of samples: 297\n"
     ]
    }
   ],
   "source": [
    "num_samples: int = len(data)\n",
    "print(\"Number of samples:\", num_samples)"
   ]
  },
  {
   "cell_type": "markdown",
   "metadata": {},
   "source": [
    "* Adjust the size of data and target so that they only hold the values loaded from the CSV file"
   ]
  },
  {
   "cell_type": "code",
   "execution_count": 197,
   "metadata": {},
   "outputs": [],
   "source": [
    "data = data[:num_samples]\n",
    "target = target[:num_samples]\n"
   ]
  },
  {
   "cell_type": "markdown",
   "metadata": {},
   "source": [
    "* Splitting data into training set and test set"
   ]
  },
  {
   "cell_type": "code",
   "execution_count": 198,
   "metadata": {},
   "outputs": [],
   "source": [
    "X_train, X_test, y_train, y_test = train_test_split(data, target, test_size=0.2, random_state=0)\n"
   ]
  },
  {
   "cell_type": "markdown",
   "metadata": {},
   "source": [
    "# Learning"
   ]
  },
  {
   "cell_type": "markdown",
   "metadata": {},
   "source": [
    "## Decision Tree Classifier"
   ]
  },
  {
   "cell_type": "markdown",
   "metadata": {},
   "source": [
    "**Question 3**"
   ]
  },
  {
   "cell_type": "markdown",
   "metadata": {},
   "source": [
    "* Classifying using decision tree classifier"
   ]
  },
  {
   "cell_type": "code",
   "execution_count": 199,
   "metadata": {},
   "outputs": [],
   "source": [
    "clf = tree.DecisionTreeClassifier()\n",
    "clf = clf.fit(X_train, y_train)"
   ]
  },
  {
   "cell_type": "code",
   "execution_count": 200,
   "metadata": {},
   "outputs": [
    {
     "name": "stdout",
     "output_type": "stream",
     "text": [
      "Decision tree score: 0.5\n"
     ]
    }
   ],
   "source": [
    "print(\"Decision tree score:\", clf.score(X_test, y_test))"
   ]
  },
  {
   "cell_type": "markdown",
   "metadata": {},
   "source": [
    "## Naive Bayes Classifier"
   ]
  },
  {
   "cell_type": "markdown",
   "metadata": {},
   "source": [
    "Naive Bayes is a probabilistic classifier that applies Bayes' theorem with a \"naive\" independence assumption between features. \n",
    "It works by:\n",
    "\n",
    "Mathematically, for a set of features x and class y, Naive Bayes tries to find:\n",
    "\n",
    "$$p(y_i|x_i, D)$$\n",
    "\n",
    "Where D is the training data. Using Bayes' theorem, this becomes:\n",
    "\n",
    "$$p(y_i|x_i, D) = \\frac{p(x_i|y_i, D)p(y_i|D)}{p(x_i|D)}$$\n",
    "\n",
    "The \"naive\" assumption is that features are conditionally independent given the class. This means:\n",
    "\n",
    "$$p(x_i|y_i, D) = \\prod_j p(a_j|y_i)$$\n",
    "\n",
    "Where $a_j$ are the individual feature values. This gives us the Naive Bayes classification rule:\n",
    "\n",
    "$$v_{NB} = \\arg\\max_{v_i \\in V} p(v_i) \\prod_j p(a_j|v_i)$$\n",
    "\n",
    "Why it's used:\n",
    "1. Simple but effective classifier\n",
    "2. Works well with small training sets due to the independence assumption\n",
    "3. Resistant to overfitting because of its simple model\n",
    "4. Can handle both discrete and continuous features\n",
    "5. Fast to train and predict since it just requires counting frequencies for discrete features\n",
    "\n",
    "The code you've shown implements this by:\n",
    "1. Computing prior probabilities $p(y_i)$ by counting class frequencies\n",
    "2. Computing conditional probabilities $p(a_j|y_i)$ for each feature value given each class\n",
    "3. Using these to make predictions according to the Naive Bayes formula\n",
    "\n",
    "Despite its simplistic assumptions, Naive Bayes often performs surprisingly well in practice, especially for text classification and similar tasks where we have many features."
   ]
  },
  {
   "cell_type": "markdown",
   "metadata": {},
   "source": [
    "### Custom Naive Bayes Classifier"
   ]
  },
  {
   "cell_type": "markdown",
   "metadata": {},
   "source": [
    "**Question 4**"
   ]
  },
  {
   "cell_type": "markdown",
   "metadata": {},
   "source": [
    "* Building a custom a custom Naive Bayes classifier \n",
    "* Focusing on features: `sex`, `cp`, `fbs`, `restecg`, `slope` and `ca`\n",
    "* The prior probability of each of the outcome values is between 0 and 4 [0 to 4]"
   ]
  },
  {
   "cell_type": "markdown",
   "metadata": {},
   "source": [
    "#### Prior Probabilities $p(yi)$"
   ]
  },
  {
   "cell_type": "code",
   "execution_count": 201,
   "metadata": {},
   "outputs": [],
   "source": [
    "y_count: list[float] = [0.0, 0.0, 0.0, 0.0, 0.0]\n",
    "for i in range(len(y_train)):\n",
    "    if y_train[i] == 0:\n",
    "        y_count[0] += 1\n",
    "    if y_train[i] == 1:\n",
    "        y_count[1] += 1\n",
    "    if y_train[i] == 2:\n",
    "        y_count[2] += 1\n",
    "    if y_train[i] == 3:\n",
    "        y_count[3] += 1\n",
    "    if y_train[i] == 4:\n",
    "        y_count[4] += 1\n",
    "\n",
    "# Count how many entries we have:\n",
    "total = 0\n",
    "for i in range(len(y_count)):\n",
    "    total += y_count[i]\n",
    "\n",
    "# Compute the prior value of each entry\n",
    "priors: list[int] = [0, 0, 0, 0, 0]\n",
    "for i in range(len(y_count)):\n",
    "    priors[i] = y_count[i]/total\n"
   ]
  },
  {
   "cell_type": "markdown",
   "metadata": {},
   "source": [
    "#### Conditional Probabilities $p(aj|yi)$ "
   ]
  },
  {
   "cell_type": "markdown",
   "metadata": {},
   "source": [
    "* Compute the probability of each value of cp given each value of num:\n",
    "* `cp` has possible values 1, 2, 3, 4.\n",
    "* Count the number of entries with each value of `cp`, given a value of num\n",
    "* `cp` is feature number 2 in the data"
   ]
  },
  {
   "cell_type": "code",
   "execution_count": 202,
   "metadata": {},
   "outputs": [],
   "source": [
    "cp_num: list[list[float]] = [[0.0, 0.0, 0.0, 0.0],\n",
    "\t\t\t\t\t\t\t[0.0, 0.0, 0.0, 0.0],\n",
    "\t\t\t\t\t\t\t[0.0, 0.0, 0.0, 0.0],\n",
    "\t\t\t\t\t\t\t[0.0, 0.0, 0.0, 0.0],\n",
    "\t\t\t\t\t\t\t[0.0, 0.0, 0.0, 0.0]]\n",
    "\n",
    "\n",
    "for i in range(len(X_train)):  \n",
    "    if y_train[i] == 0:        # num = 0\n",
    "        if X_train[i][2] == 1:\n",
    "            cp_num[0][0] += 1\n",
    "        if X_train[i][2] == 2:\n",
    "            cp_num[0][1] += 1\n",
    "        if X_train[i][2] == 3:\n",
    "            cp_num[0][2] += 1\n",
    "        if X_train[i][2] == 4:\n",
    "            cp_num[0][3] += 1\n",
    " \n",
    "    if y_train[i] == 1:        # num = 1\n",
    "        if X_train[i][2] == 1:\n",
    "            cp_num[1][0] += 1\n",
    "        if X_train[i][2] == 2:\n",
    "            cp_num[1][1] += 1\n",
    "        if X_train[i][2] == 3:\n",
    "            cp_num[1][2] += 1\n",
    "        if X_train[i][2] == 4:\n",
    "            cp_num[1][3] += 1\n",
    " \n",
    "    if y_train[i] == 2:        # num = 2\n",
    "        if X_train[i][2] == 1:\n",
    "            cp_num[2][0] += 1\n",
    "        if X_train[i][2] == 2:\n",
    "            cp_num[2][1] += 1\n",
    "        if X_train[i][2] == 3:\n",
    "            cp_num[2][2] += 1\n",
    "        if X_train[i][2] == 4:\n",
    "            cp_num[2][3] += 1\n",
    " \n",
    "    if y_train[i] == 3:        # num = 3\n",
    "        if X_train[i][2] == 1:\n",
    "            cp_num[3][0] += 1\n",
    "        if X_train[i][2] == 2:\n",
    "            cp_num[3][1] += 1\n",
    "        if X_train[i][2] == 3:\n",
    "            cp_num[3][2] += 1\n",
    "        if X_train[i][2] == 4:\n",
    "            cp_num[3][3] += 1\n",
    " \n",
    "    if y_train[i] == 4:        # num = 4\n",
    "        if X_train[i][2] == 1:\n",
    "            cp_num[4][0] += 1\n",
    "        if X_train[i][2] == 2:\n",
    "            cp_num[4][1] += 1\n",
    "        if X_train[i][2] == 3:\n",
    "            cp_num[4][2] += 1\n",
    "        if X_train[i][2] == 4:\n",
    "            cp_num[4][3] += 1"
   ]
  },
  {
   "cell_type": "markdown",
   "metadata": {},
   "source": [
    "* Normalising probabilities"
   ]
  },
  {
   "cell_type": "code",
   "execution_count": 203,
   "metadata": {},
   "outputs": [],
   "source": [
    "for i in range(len(y_count)):\n",
    "    for j in range(len(cp_num[1])):\n",
    "        cp_num[i][j] = cp_num[i][j] / y_count[i]"
   ]
  },
  {
   "cell_type": "markdown",
   "metadata": {},
   "source": [
    "#### Conditional Probabilities $p(aj|yi)$"
   ]
  },
  {
   "cell_type": "markdown",
   "metadata": {},
   "source": [
    "* Compute the probability of each value of `fbs` given each value of num:\n",
    "* `fbs` has possible values 1 and 0\n",
    "* Count the number of entries with each value of `fbs`, given a value of num\n",
    "* `fbs` is feature number 5 in the data"
   ]
  },
  {
   "cell_type": "code",
   "execution_count": 204,
   "metadata": {},
   "outputs": [],
   "source": [
    "fbs_num: list[list[float]] = \t[[0.0, 0.0],\n",
    "\t\t\t\t\t\t\t\t[0.0, 0.0],\n",
    "\t\t\t\t\t\t\t\t[0.0, 0.0],\n",
    "\t\t\t\t\t\t\t\t[0.0, 0.0],\n",
    "\t\t\t\t\t\t\t\t[0.0, 0.0]]\n",
    "          \n",
    "for i in range(len(X_train)):  \n",
    "    if y_train[i] == 0:        # num = 0\n",
    "        if X_train[i][5] == 0:\n",
    "            fbs_num[0][0] += 1\n",
    "        if X_train[i][5] == 1:\n",
    "            fbs_num[0][1] += 1\n",
    "\n",
    "    if y_train[i] == 1:        # num = 1\n",
    "        if X_train[i][5] == 0:\n",
    "            fbs_num[1][0] += 1\n",
    "        if X_train[i][5] == 1:\n",
    "            fbs_num[1][1] += 1\n",
    "\n",
    "    if y_train[i] == 2:        # num = 2\n",
    "        if X_train[i][5] == 0:\n",
    "            fbs_num[2][0] += 1\n",
    "        if X_train[i][5] == 1:\n",
    "            fbs_num[2][1] += 1\n",
    "            \n",
    "    if y_train[i] == 3:        # num = 3\n",
    "        if X_train[i][5] == 0:\n",
    "            fbs_num[3][0] += 1\n",
    "        if X_train[i][5] == 1:\n",
    "            fbs_num[3][1] += 1\n",
    "\n",
    "    if y_train[i] == 4:        # num = 4\n",
    "        if X_train[i][5] == 0:\n",
    "            fbs_num[4][0] += 1\n",
    "        if X_train[i][5] == 1:\n",
    "            fbs_num[4][1] += 1"
   ]
  },
  {
   "cell_type": "markdown",
   "metadata": {},
   "source": [
    "* Normalise probabilities"
   ]
  },
  {
   "cell_type": "code",
   "execution_count": 205,
   "metadata": {},
   "outputs": [],
   "source": [
    "for i in range(len(y_count)):\n",
    "    for j in range(len(fbs_num[0])):\n",
    "        fbs_num[i][j] = fbs_num[i][j] / y_count[i]"
   ]
  },
  {
   "cell_type": "markdown",
   "metadata": {},
   "source": [
    "* Making predictions with the custom Naive Bayes classifier"
   ]
  },
  {
   "cell_type": "code",
   "execution_count": 206,
   "metadata": {},
   "outputs": [
    {
     "name": "stdout",
     "output_type": "stream",
     "text": [
      "My Naive Bayes scores:  0.45\n"
     ]
    }
   ],
   "source": [
    "y_pred: int = 0\n",
    "score: float = 0.0\n",
    "\n",
    "for i in range(len(y_test)):\n",
    "    # Moved prob_num from outside loop so that probabilities are refreshed for each test instance.\n",
    "    prob_num: list[int] = [1, 1, 1, 1, 1]\n",
    "    # For each possible value of num, compute p(cp|num)p(fbs|num)p(num) \n",
    "    for j in range(len(y_count)): \n",
    "        prob_num[j] = prob_num[j] * cp_num[j][(int(X_test[i][2]) - 1)]\n",
    "        prob_num[j] = prob_num[j] * fbs_num[j][int(X_test[i][5])]\n",
    "        prob_num[j] = prob_num[j] * priors[j]\n",
    "    # The element with the maximum value is the prediction\n",
    "    y_pred: int = prob_num.index(max(prob_num))\n",
    "\n",
    "    # Is this the right value?\n",
    "    if y_pred == y_test[i]:\n",
    "        score += 1\n",
    "        \n",
    "print(\"My Naive Bayes scores: \", score/len(y_test))"
   ]
  },
  {
   "cell_type": "markdown",
   "metadata": {},
   "source": [
    "### Built-In Naive Bayes Classifier"
   ]
  },
  {
   "cell_type": "markdown",
   "metadata": {},
   "source": [
    "**Question 5**"
   ]
  },
  {
   "cell_type": "code",
   "execution_count": 207,
   "metadata": {},
   "outputs": [],
   "source": [
    "nb = MultinomialNB()\n",
    "nb = nb.fit(X_train, y_train)"
   ]
  },
  {
   "cell_type": "code",
   "execution_count": 208,
   "metadata": {},
   "outputs": [
    {
     "name": "stdout",
     "output_type": "stream",
     "text": [
      "Naive Bayes score: 0.48333333333333334\n"
     ]
    }
   ],
   "source": [
    "print(\"Naive Bayes score:\", nb.score(X_test, y_test))"
   ]
  },
  {
   "cell_type": "markdown",
   "metadata": {},
   "source": [
    "## Comparison"
   ]
  },
  {
   "cell_type": "code",
   "execution_count": 209,
   "metadata": {},
   "outputs": [
    {
     "data": {
      "image/png": "[encoded data removed]",
      "text/plain": [
       "<Figure size 1500x1000 with 1 Axes>"
      ]
     },
     "metadata": {},
     "output_type": "display_data"
    }
   ],
   "source": [
    "scores = {\n",
    "\t'Custom Naive Bayes': score/len(y_test),  # from previous calculation\n",
    "\t'Built-in Naive Bayes': nb.score(X_test, y_test),  # from sklearn\n",
    "\t'Decision Tree': clf.score(X_test, y_test)  # from sklearn\n",
    "}\n",
    "\n",
    "plt.figure(figsize=(15, 10))\n",
    "plt.ylim(0.4, 0.6)\n",
    "plt.bar(scores.keys(), scores.values())\n",
    "plt.title('Comparison of Classifier Accuracies')\n",
    "plt.ylabel('Accuracy Score')\n",
    "plt.ylim(0, 1)  # Set y-axis from 0 to 1 since these are accuracy scores\n",
    "\n",
    "for i, (classifier, score) in enumerate(scores.items()):\n",
    "\tplt.text(i, score, f'{score:.3f}', ha='center', va='bottom')\n",
    "\n",
    "plt.show()"
   ]
  }
 ],
 "metadata": {
  "kernelspec": {
   "display_name": "machine-learning-practicals-tgA2vz9k-py3.10",
   "language": "python",
   "name": "python3"
  },
  "language_info": {
   "codemirror_mode": {
    "name": "ipython",
    "version": 3
   },
   "file_extension": ".py",
   "mimetype": "text/x-python",
   "name": "python",
   "nbconvert_exporter": "python",
   "pygments_lexer": "ipython3",
   "version": "3.10.11"
  }
 },
 "nbformat": 4,
 "nbformat_minor": 2
}
